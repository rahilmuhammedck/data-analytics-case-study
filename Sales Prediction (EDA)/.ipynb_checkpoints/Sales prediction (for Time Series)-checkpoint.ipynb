{
 "cells": [
  {
   "cell_type": "markdown",
   "id": "f5d39c23",
   "metadata": {},
   "source": [
    "# Welcome to Store Sales Forcasting (Time Series)  "
   ]
  },
  {
   "cell_type": "markdown",
   "id": "4c41813f",
   "metadata": {},
   "source": [
    "This data analysis investigates the sale prices of various products across different stores within Corporacion Favorita, employing diverse metrics such as promotional status, holidays, oil prices, specific store locations, and product types. The objective is twofold: first, to discern patterns influencing product pricing, and second, to optimize inventory management by ensuring that popular products are adequately stocked while preventing overstocking of less popular items. The study will be executed by a data scientist, utilizing advanced analytical methods to derive actionable insights for strategic decision-making within the retail context."
   ]
  },
  {
   "cell_type": "markdown",
   "id": "332e5c67",
   "metadata": {},
   "source": [
    "# OBJECTIVES:\n",
    "\n",
    ".To scrutinize diverse factors influencing sales across different stores.\n",
    "\n",
    ". To construct a model that enhances the precision of predicting unit sales for a multitude of items across various Favorita stores.\n",
    "\n",
    ".The evaluation metric for this case study is the Root Mean Squared Logarithmic Error.\n"
   ]
  },
  {
   "cell_type": "code",
   "execution_count": 3,
   "id": "84140887",
   "metadata": {},
   "outputs": [],
   "source": [
    "#Import \n",
    "import numpy as np\n",
    "import pandas as pd\n",
    "import plotly.express as px\n",
    "import matplotlib.pyplot as plt"
   ]
  },
  {
   "cell_type": "code",
   "execution_count": 9,
   "id": "a66edca6",
   "metadata": {
    "scrolled": true
   },
   "outputs": [],
   "source": [
    "#Import Data \n",
    "#train_data = pd.read_csv(\"train.csv\")\n",
    "test_data = pd.read_csv(\"test.csv\")\n",
    "holidays = pd.read_csv(\"holidays_events.csv\")\n",
    "oil = pd.read_csv(\"oil.csv\")\n",
    "stores = pd.read_csv(\"stores.csv\")"
   ]
  },
  {
   "cell_type": "code",
   "execution_count": 10,
   "id": "2ff6b755",
   "metadata": {},
   "outputs": [
    {
     "name": "stdout",
     "output_type": "stream",
     "text": [
      "(28512, 5)\n"
     ]
    }
   ],
   "source": [
    "print(test_data.shape)\n",
    "#print(train_data.shape)"
   ]
  },
  {
   "cell_type": "markdown",
   "id": "f5fea175",
   "metadata": {},
   "source": [
    "Overview of data features\n",
    "\n",
    "Stores\n",
    "\n",
    "store_nbr — the number of a store\n",
    "\n",
    "city — city to which the store belongs to\n",
    "\n",
    "state — state to where store is located\n",
    "\n",
    "type — type of store\n",
    "\n",
    "cluster — cluster is a grouping of similar stores\n",
    "\n",
    "Train data\n",
    "id — item id\n",
    "\n",
    "date — date on record\n",
    "\n",
    "store_nbr — store number\n",
    "\n",
    "family — family of product\n",
    "\n",
    "sales — number of sales\n",
    "\n",
    "onpromotion — gives the total number of items in a product family that were promoted at a store at a given date\n",
    "\n",
    "Holidays\n",
    "date — date of the holiday\n",
    "\n",
    "type — type of the holiday\n",
    "\n",
    "locale — whether it’s a Local or Regional holiday\n",
    "\n",
    "local_name — name of the city\n",
    "\n",
    "description — description of the holiday\n",
    "\n",
    "transfered — whether the holiday is transfered to another date or not\n",
    "\n",
    "Oil\n",
    "date — date\n",
    "\n",
    "dcoilwtico — oil price for the given date"
   ]
  }
 ],
 "metadata": {
  "kernelspec": {
   "display_name": "Python 3 (ipykernel)",
   "language": "python",
   "name": "python3"
  },
  "language_info": {
   "codemirror_mode": {
    "name": "ipython",
    "version": 3
   },
   "file_extension": ".py",
   "mimetype": "text/x-python",
   "name": "python",
   "nbconvert_exporter": "python",
   "pygments_lexer": "ipython3",
   "version": "3.11.5"
  }
 },
 "nbformat": 4,
 "nbformat_minor": 5
}
