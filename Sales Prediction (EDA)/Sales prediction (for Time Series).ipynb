{
 "cells": [
  {
   "cell_type": "markdown",
   "id": "f5d39c23",
   "metadata": {},
   "source": [
    "# Welcome to Store Sales Forcasting (Time Series)  "
   ]
  },
  {
   "cell_type": "markdown",
   "id": "4c41813f",
   "metadata": {},
   "source": [
    "This data analysis investigates the sale prices of various products across different stores within Corporacion Favorita, employing diverse metrics such as promotional status, holidays, oil prices, specific store locations, and product types. The objective is twofold: first, to discern patterns influencing product pricing, and second, to optimize inventory management by ensuring that popular products are adequately stocked while preventing overstocking of less popular items. The study will be executed by a data scientist, utilizing advanced analytical methods to derive actionable insights for strategic decision-making within the retail context."
   ]
  },
  {
   "cell_type": "markdown",
   "id": "332e5c67",
   "metadata": {},
   "source": [
    "# OBJECTIVES:\n",
    "\n",
    ".To scrutinize diverse factors influencing sales across different stores.\n",
    "\n",
    ". To construct a model that enhances the precision of predicting unit sales for a multitude of items across various Favorita stores.\n",
    "\n",
    ".The evaluation metric for this case study is the Root Mean Squared Logarithmic Error.\n"
   ]
  },
  {
   "cell_type": "code",
   "execution_count": 1,
   "id": "84140887",
   "metadata": {},
   "outputs": [],
   "source": [
    "#Import \n",
    "import numpy as np\n",
    "import pandas as pd\n",
    "import plotly.express as px\n",
    "import matplotlib.pyplot as plt"
   ]
  },
  {
   "cell_type": "code",
   "execution_count": null,
   "id": "a66edca6",
   "metadata": {},
   "outputs": [],
   "source": [
    "#Import Data \n",
    "holidays = pd.read_csv(\"\")"
   ]
  }
 ],
 "metadata": {
  "kernelspec": {
   "display_name": "Python 3 (ipykernel)",
   "language": "python",
   "name": "python3"
  },
  "language_info": {
   "codemirror_mode": {
    "name": "ipython",
    "version": 3
   },
   "file_extension": ".py",
   "mimetype": "text/x-python",
   "name": "python",
   "nbconvert_exporter": "python",
   "pygments_lexer": "ipython3",
   "version": "3.11.5"
  }
 },
 "nbformat": 4,
 "nbformat_minor": 5
}
